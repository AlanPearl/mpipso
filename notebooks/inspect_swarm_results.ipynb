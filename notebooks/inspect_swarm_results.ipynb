{
 "cells": [
  {
   "cell_type": "code",
   "execution_count": 1,
   "id": "e0ff4140",
   "metadata": {},
   "outputs": [],
   "source": [
    "%matplotlib inline"
   ]
  },
  {
   "cell_type": "code",
   "execution_count": 2,
   "id": "9cc88013",
   "metadata": {},
   "outputs": [],
   "source": [
    "nranks = 2\n",
    "\n",
    "x_target = np.load(\"x_target.npy\")\n",
    "x_init0 = np.load(\"x_init_0.npy\")\n",
    "x_init1 = np.load(\"x_init_1.npy\")\n",
    "\n",
    "\n",
    "loc_x_best_history = [np.load(\"loc_x_best_history_{}.npy\".format(i)) for i in range(nranks)]\n",
    "loc_dsq_best_history = [np.load(\"loc_dsq_best_history_{}.npy\".format(i)) for i in range(nranks)]\n",
    "swarm_x_best_history = [np.load(\"swarm_x_best_history_{}.npy\".format(i)) for i in range(nranks)]\n",
    "swarm_dsq_best_history = [np.load(\"swarm_dsq_best_history_{}.npy\".format(i)) for i in range(nranks)]\n",
    "\n",
    "loc_x_best_history = np.array(loc_x_best_history)\n",
    "loc_dsq_best_history = np.array(loc_dsq_best_history)\n",
    "swarm_x_best_history = np.array(swarm_x_best_history)\n",
    "swarm_dsq_best_history = np.array(swarm_dsq_best_history)\n",
    "\n",
    "x_best0 = loc_x_best_history[0, -1, :]\n",
    "x_best1 = loc_x_best_history[1, -1, :]"
   ]
  },
  {
   "cell_type": "code",
   "execution_count": 3,
   "id": "fdb2baf0",
   "metadata": {},
   "outputs": [
    {
     "data": {
      "image/png": "[encoded data removed]",
      "text/plain": [
       "<Figure size 432x288 with 1 Axes>"
      ]
     },
     "metadata": {
      "needs_background": "light"
     },
     "output_type": "display_data"
    }
   ],
   "source": [
    "fig, ax = plt.subplots(1, 1)\n",
    "eps = 0.03\n",
    "xlim = ax.set_xlim(0-eps, 1+eps)\n",
    "ylim = ax.set_ylim(0-eps, 1+eps)\n",
    "zz = np.zeros(500)\n",
    "hh = np.linspace(-100, 100, zz.size)\n",
    "__=ax.plot(zz, hh, ':', color='k')\n",
    "__=ax.plot(zz+1, hh, ':', color='k')\n",
    "__=ax.plot(hh, zz, ':', color='k')\n",
    "__=ax.plot(hh, zz+1, ':', color='k')\n",
    "\n",
    "__=ax.scatter(*x_target,s=50, color=mblue, marker='*', label=r'${\\rm target}$')\n",
    "\n",
    "__=ax.scatter(*x_best0,s=100, color=mred, marker='*', label=r'$x_0^{\\rm best}$')\n",
    "__=ax.scatter(*x_best1,s=100, color=morange, marker='*', label=r'$x_1^{\\rm best}$')\n",
    "__=ax.scatter(*x_init0,s=100, color=mred, marker='.', label=r'$x_0^{\\rm init}$')\n",
    "__=ax.scatter(*x_init1,s=100, color=morange, marker='.', label=r'$x_1^{\\rm init}$')\n",
    "\n",
    "__=ax.legend(loc='lower left')\n",
    "\n",
    "xlabel = ax.set_xlabel(r'$x$')\n",
    "ylabel = ax.set_ylabel(r'$y$')\n",
    "title = ax.set_title(r'${\\rm Particle\\ Swarm\\ Optimization}$')\n"
   ]
  },
  {
   "cell_type": "code",
   "execution_count": null,
   "id": "8bb3a250",
   "metadata": {},
   "outputs": [],
   "source": []
  }
 ],
 "metadata": {
  "kernelspec": {
   "display_name": "Python 3 (ipykernel)",
   "language": "python",
   "name": "python3"
  },
  "language_info": {
   "codemirror_mode": {
    "name": "ipython",
    "version": 3
   },
   "file_extension": ".py",
   "mimetype": "text/x-python",
   "name": "python",
   "nbconvert_exporter": "python",
   "pygments_lexer": "ipython3",
   "version": "3.9.12"
  }
 },
 "nbformat": 4,
 "nbformat_minor": 5
}
